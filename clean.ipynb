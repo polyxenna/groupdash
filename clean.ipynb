{
 "cells": [
  {
   "cell_type": "code",
   "execution_count": 1,
   "metadata": {},
   "outputs": [],
   "source": [
    "import pandas as pd\n",
    "\n",
    "# Read the data from \"miao.csv\"\n",
    "df = pd.read_csv(\"roble.csv\")\n",
    "\n",
    "# Capitalize the first letter of the 'Value' column\n",
    "df['How I feel'] = df['How I feel'].str.capitalize()\n",
    "\n",
    "# Save the modified DataFrame back to \"miao.csv\"\n",
    "df.to_csv(\"roble.csv\", index=False)\n"
   ]
  }
 ],
 "metadata": {
  "kernelspec": {
   "display_name": "Python 3",
   "language": "python",
   "name": "python3"
  },
  "language_info": {
   "codemirror_mode": {
    "name": "ipython",
    "version": 3
   },
   "file_extension": ".py",
   "mimetype": "text/x-python",
   "name": "python",
   "nbconvert_exporter": "python",
   "pygments_lexer": "ipython3",
   "version": "3.11.5"
  }
 },
 "nbformat": 4,
 "nbformat_minor": 2
}
